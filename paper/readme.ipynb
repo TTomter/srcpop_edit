{
 "cells": [
  {
   "cell_type": "code",
   "execution_count": 26,
   "id": "d1160530-e709-4562-920a-4ac2f707544c",
   "metadata": {},
   "outputs": [
    {
     "data": {
      "text/markdown": [
       "# Evidence for a new gamma-ray source class\n",
       "## Abstract\n",
       "The most recent source catalog from the Large Area Telescope (LAT) instrument on\n",
       "_Fermi_, covering 14 years, contains 7190 (6417 DR3) non-transient point sources,\n",
       "of which 2371 (2179 DR3) either have no co-location association with objects observed in other \n",
       "wavelengths to provide a strong indication of their identities, \n",
       "or have ambiguous associations. This has been a feature \n",
       "of all catalogs since the first 8-month release in which 161 out of 630 were \n",
       "unassociated. The unassociated sources (UNID) break down into roughly equal \n",
       "Galactic and extra-Galactic populations. The origin of the latter is  accounted \n",
       "for by the non-uniform coverage and sensitivity limit of the counterpart catalogs. \n",
       "To examine the Galactic component of the UNID we apply a \n",
       "predictive artificial intelligence technique using as features the \n",
       "parameters of the peak in the spectral energy distribution, and the \n",
       "variability measure. The UNID sources predicted to be pulsars have \n",
       "significant spectral curvature, with peak energies in the range seen \n",
       "in the pulsars used for training, and are clearly Galactic in spatial distribution. \n",
       "But the distribution of curvatures and spectral peak energies is unlike that \n",
       "seen for pulsars, with curvatures extending well above those oberved for pulsars.\n",
       "\n",
       "<br>\n",
       "\n",
       "## Sections\n",
       "* [ML Classification to detect pulsar-like sources](dr3-classification_doc.ipynb)\n",
       "* [Use of Galactic diffuse flux as a feature](diffuse_doc.ipynb)\n",
       "* [Properties of the pulsar-like unassociated sources](unid-dr3.ipynb)"
      ],
      "text/plain": [
       "<pylib.ipynb_docgen.doc_formatter.<locals>.MimeBundleObject at 0x7fe2412e82e0>"
      ]
     },
     "metadata": {},
     "output_type": "display_data"
    }
   ],
   "source": [
    "from pylib.ipynb_docgen import show\n",
    "show(f\"\"\"# Evidence for a new gamma-ray source class\n",
    "## Abstract\n",
    "The most recent source catalog from the Large Area Telescope (LAT) instrument on\n",
    "_Fermi_, covering 14 years, contains 7190 (6417 DR3) non-transient point sources,\n",
    "of which 2371 (2179 DR3) either have no co-location association with objects observed in other \n",
    "wavelengths to provide a strong indication of their identities, \n",
    "or have ambiguous associations. This has been a feature \n",
    "of all catalogs since the first 8-month release in which 161 out of 630 were \n",
    "unassociated. The unassociated sources (UNID) break down into roughly equal \n",
    "Galactic and extra-Galactic populations. The origin of the latter is  accounted \n",
    "for by the non-uniform coverage and sensitivity limit of the counterpart catalogs. \n",
    "To examine the Galactic component of the UNID we apply a \n",
    "predictive artificial intelligence technique using as features the \n",
    "parameters of the peak in the spectral energy distribution, and the \n",
    "variability measure. The UNID sources predicted to be pulsars have \n",
    "significant spectral curvature, with peak energies in the range seen \n",
    "in the pulsars used for training, and are clearly Galactic in spatial distribution. \n",
    "But the distribution of curvatures and spectral peak energies is unlike that \n",
    "seen for pulsars, with curvatures extending well above those oberved for pulsars.\n",
    "\n",
    "<br>\n",
    "\n",
    "## Sections\n",
    "* [ML Classification to detect pulsar-like sources](dr3-classification_doc.ipynb)\n",
    "* [Use of Galactic diffuse flux as a feature](diffuse_doc.ipynb)\n",
    "* [Properties of the pulsar-like unassociated sources](unid-dr3.ipynb)\n",
    "\"\"\")"
   ]
  },
  {
   "cell_type": "code",
   "execution_count": 25,
   "id": "dab8ff08-cf99-4693-884c-a01c5cd72706",
   "metadata": {},
   "outputs": [
    {
     "data": {
      "text/plain": [
       "2179"
      ]
     },
     "execution_count": 25,
     "metadata": {},
     "output_type": "execute_result"
    }
   ],
   "source": [
    "878+326+975"
   ]
  }
 ],
 "metadata": {
  "kernelspec": {
   "display_name": "Python 3 (ipykernel)",
   "language": "python",
   "name": "python3"
  },
  "language_info": {
   "codemirror_mode": {
    "name": "ipython",
    "version": 3
   },
   "file_extension": ".py",
   "mimetype": "text/x-python",
   "name": "python",
   "nbconvert_exporter": "python",
   "pygments_lexer": "ipython3",
   "version": "3.10.10"
  }
 },
 "nbformat": 4,
 "nbformat_minor": 5
}
