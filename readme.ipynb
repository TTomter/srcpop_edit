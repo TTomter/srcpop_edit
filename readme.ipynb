{
 "cells": [
  {
   "cell_type": "code",
   "execution_count": 2,
   "id": "69edd4ad-7b26-442a-b717-a873d7e65180",
   "metadata": {},
   "outputs": [
    {
     "data": {
      "text/markdown": [
       "# Fermi gamma-ray source population study\n",
       "These notebooks use spectral and time-dependence characteristics of the 4FGL-DR4 point source catalog contents to use an ML training of the associated members to predict the identies of the unassociated ones.\n",
       "\n",
       "Code depencies:\n",
       "* [wtlike](https://github.com/tburnett/wtlike), specifially a few modules in its utilities folder\n",
       "* seaborn\n",
       "\n",
       "Data:\n",
       "* `files/fermi_sources_v2.csv`\n",
       "\n",
       "Notebooks:\n",
       "* [Spectral parameters and UW/DR4 difference](study_spectra.ipynb).\n",
       "* [Population study](population_study.ipynb)\n",
       "* [Compare UW and 4FGL Epeaks](compare_epeak.ipynb)"
      ],
      "text/plain": [
       "<utilities.ipynb_docgen.doc_formatter.<locals>.MimeBundleObject at 0x7f223ad79a20>"
      ]
     },
     "metadata": {},
     "output_type": "display_data"
    }
   ],
   "source": [
    "from utilities.ipynb_docgen import show\n",
    "show(rf\"\"\"# Fermi gamma-ray source population study\n",
    "These notebooks use spectral and time-dependence characteristics of the 4FGL-DR4 point source catalog contents to use an ML training of the associated members to predict the identies of the unassociated ones.\n",
    "\n",
    "Code depencies:\n",
    "* [wtlike](https://github.com/tburnett/wtlike), specifially a few modules in its utilities folder\n",
    "* seaborn\n",
    "\n",
    "Data:\n",
    "* `files/fermi_sources_v2.csv`\n",
    "\n",
    "Notebooks:\n",
    "* [Spectral parameters and UW/DR4 difference](study_spectra.ipynb).\n",
    "* [Population study](population_study.ipynb)\n",
    "* [Compare UW and 4FGL Epeaks](compare_epeak.ipynb)\n",
    "\n",
    "\"\"\")"
   ]
  },
  {
   "cell_type": "code",
   "execution_count": null,
   "id": "54b56dec-c1bf-45b5-bcd6-a9995a9757cb",
   "metadata": {},
   "outputs": [],
   "source": []
  }
 ],
 "metadata": {
  "kernelspec": {
   "display_name": "Python 3 (ipykernel)",
   "language": "python",
   "name": "python3"
  },
  "language_info": {
   "codemirror_mode": {
    "name": "ipython",
    "version": 3
   },
   "file_extension": ".py",
   "mimetype": "text/x-python",
   "name": "python",
   "nbconvert_exporter": "python",
   "pygments_lexer": "ipython3",
   "version": "3.10.10"
  }
 },
 "nbformat": 4,
 "nbformat_minor": 5
}
