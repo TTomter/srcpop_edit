{
 "cells": [
  {
   "cell_type": "code",
   "execution_count": 3,
   "id": "e9008156-98af-44ad-a93f-8099a46045f0",
   "metadata": {},
   "outputs": [
    {
     "data": {
      "text/markdown": [
       "Read 6699 source entries from `files/fermi_sources_v2.csv`, selected 6491 with criteria 'delta<0.25 & curvature<1.01'"
      ],
      "text/plain": [
       "<utilities.ipynb_docgen.doc_formatter.<locals>.MimeBundleObject at 0x7f0c564a8ac0>"
      ]
     },
     "metadata": {},
     "output_type": "display_data"
    },
    {
     "data": {
      "text/markdown": [
       "Read 6699 source entries from `files/fermi_sources_v2.csv`, selected 6491 with criteria 'delta<0.25 & curvature<1.01'"
      ],
      "text/plain": [
       "<utilities.ipynb_docgen.doc_formatter.<locals>.MimeBundleObject at 0x7f0c19f9bd60>"
      ]
     },
     "metadata": {},
     "output_type": "display_data"
    }
   ],
   "source": [
    "%run pylib/compare_classifiers"
   ]
  },
  {
   "cell_type": "code",
   "execution_count": null,
   "id": "44730483-7330-4399-9340-bb04f0e9b692",
   "metadata": {},
   "outputs": [],
   "source": []
  }
 ],
 "metadata": {
  "kernelspec": {
   "display_name": "Python 3 (ipykernel)",
   "language": "python",
   "name": "python3"
  },
  "language_info": {
   "codemirror_mode": {
    "name": "ipython",
    "version": 3
   },
   "file_extension": ".py",
   "mimetype": "text/x-python",
   "name": "python",
   "nbconvert_exporter": "python",
   "pygments_lexer": "ipython3",
   "version": "3.10.10"
  }
 },
 "nbformat": 4,
 "nbformat_minor": 5
}
